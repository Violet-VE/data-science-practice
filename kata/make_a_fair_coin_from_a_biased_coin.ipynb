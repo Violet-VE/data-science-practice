{
 "cells": [
  {
   "cell_type": "markdown",
   "metadata": {},
   "source": [
    "# 如何 利用有偏的硬币作出无偏的决策？\n",
    "\n",
    "[概率导论（第2版·修订版）](https://book.douban.com/subject/26694188/)的第1章习题33（P55）：  \n",
    "利用有偏的硬币作出无偏的决策。\n",
    "\n",
    "题目说明如下：\n",
    "\n",
    "33\\. 利用有偏的硬币作出无偏的决策。爱丽丝和鲍勃想利用一枚均匀的硬币来决定他们去看歌剧还是看电影。  \n",
    "不幸的是，他们只有一枚有偏的硬币（而且他们并不知道偏的程度）。  \n",
    "怎样利用一枚有偏的硬币作出无偏的决策，即以1/2的概率看电影，1/2的概率看歌剧呢？\n",
    "\n",
    "-----------------------\n",
    "\n",
    "网上的一些讨论：\n",
    "\n",
    "- [利用有偏硬币做出无偏决策 - niudong - 博客园](https://www.cnblogs.com/andyniu/p/7398901.html)\n",
    "- [一些有趣的概率问题 - 有偏硬币做出无偏决策 | 零一人生](http://chengfeng96.com/blog/2019/02/25/%E4%B8%80%E4%BA%9B%E6%9C%89%E8%B6%A3%E7%9A%84%E6%A6%82%E7%8E%87%E9%97%AE%E9%A2%98/#%E6%9C%89%E5%81%8F%E7%A1%AC%E5%B8%81%E5%81%9A%E5%87%BA%E6%97%A0%E5%81%8F%E5%86%B3%E7%AD%96)\n",
    "- [Make a fair coin from a biased coin - GeeksforGeeks](https://www.geeksforgeeks.org/print-0-and-1-with-50-probability/)\n",
    "\n",
    "# 1. 解法思路说明\n",
    "\n",
    "偏的硬币有偏的硬币，且不知道偏的程度，是指 \n",
    "\n",
    "- 抛掷出 正面($H (Head)$)向上 / 反面($T (Tail)$)向上 的概率不是 $1/2$。\n",
    "- 令正面向上的概率是 $p \\in (0, 1)$，即 $P(H) = p$\n",
    "    - 则反面向上的概率是 $1 - p$, ，即 $P(T) = 1 - p$。\n",
    "- 但不知道$p$具体值是多少。\n",
    "\n",
    "如果连续抛2次，实验结果及其概率分布列是：\n",
    "\n",
    "实验结果:   | $(H, H)$ | $(H, T)$ | $(T, H)$ | $(T, T)$\n",
    "---------- | --------- | ------- | -------| -------\n",
    "概率: | $p^2$ | $p(1-p)$ | $(1-p)p$ | $(1-p)^2$\n",
    "\n",
    "可以发现 实验结果 $(H, T)$ 与 $(T, H)$ 概率相等，都是 $p(1-p)$，与$p$的具体值无关。\n",
    "\n",
    "利用这一点，可以得到一个 $1/2$ 的概率：\n",
    "\n",
    "在观察到$(H, T)$ 与 $(T, H)$的条件下，出现$(H, T)$ 或 $(T, H)$的概率是$1/2$。\n",
    "\n",
    "即 下面的条件概率 是 $1/2$：\n",
    "\n",
    "$P\\big((H, T) \\mid \\{(H, T), (T, H)\\}\\big) = P\\big((T, H) \\mid \\{(H, T), (T, H)\\}\\big) = 1/2$\n",
    "\n",
    "## 2. 题目答案：利用有偏的硬币作出无偏的决策的操作过程\n",
    "\n",
    "抛掷2次硬币，以抛掷结果来决定是看歌剧还是看电影。\n",
    "\n",
    "- 如果结果是 $(H, H)$ 或 $(T, T)$ 则 不算，重新抛掷；\n",
    "- 如是结果是 $(H, T)$，则 看歌剧；\n",
    "- 如是结果是 $(T, H)$，则 看电影。\n",
    "\n",
    "# 3. 通过代码实现及其运行结果验证答案的正确性\n",
    "\n",
    "## 3.1 代码实现"
   ]
  },
  {
   "cell_type": "code",
   "execution_count": 1,
   "metadata": {
    "pycharm": {
     "is_executing": false,
     "name": "#%%\n"
    }
   },
   "outputs": [],
   "source": [
    "H = True\n",
    "T = False\n",
    "\n",
    "import numpy as np\n",
    "\n",
    "def count_decision(throw_coin_sequence):\n",
    "    \"\"\"\n",
    "    :param throw_coin_sequence: 抛掷硬币的结果序列\n",
    "    :return: 返回决策结果，元组`(决策1/HT的次数, 决策2/TH的次数)`\n",
    "    \"\"\"\n",
    "    ht_count = 0 # 决策1/HT的次数\n",
    "    th_count = 0 # 决策2/TH的次数\n",
    "    \n",
    "    idx = 0    \n",
    "    for _ in throw_coin_sequence:\n",
    "        if idx % 2 == 1: # 只处理第二次的情况，形成2次抛掷一组的观察\n",
    "            if throw_coin_sequence[idx] == throw_coin_sequence[idx - 1]:\n",
    "                # 如果结果是 (H, H) 或 (T, T) 则 不算，重新抛掷\n",
    "                pass\n",
    "            elif throw_coin_sequence[idx - 1] == H:\n",
    "                ht_count += 1\n",
    "            else: th_count +=1\n",
    "\n",
    "        idx += 1\n",
    "                \n",
    "    return ht_count, th_count\n",
    "\n",
    "\n",
    "# Unit Test\n",
    "\n",
    "assert count_decision([H, H]) == (0, 0) # (H,H)，不算作废\n",
    "assert count_decision([H]) == (0, 0)\n",
    "assert count_decision([T, T]) == (0, 0) # (T,T)，不算作废\n",
    "assert count_decision([T]) == (0, 0)\n",
    "\n",
    "assert count_decision([H, T]) == (1, 0)\n",
    "assert count_decision([T, H]) == (0, 1)\n",
    "\n",
    "assert count_decision([\n",
    "    H, H, # (H,H)，不算作废\n",
    "    H, T,\n",
    "    T, T, # (T,T)，不算作废\n",
    "    T, H\n",
    "]) == (1, 1)"
   ]
  },
  {
   "cell_type": "markdown",
   "metadata": {
    "pycharm": {
     "name": "#%% md\n"
    }
   },
   "source": [
    "## 3.2 生成大量的测试数据（1百万次抛掷硬币的结果序列）"
   ]
  },
  {
   "cell_type": "code",
   "execution_count": 2,
   "metadata": {
    "pycharm": {
     "is_executing": false,
     "name": "#%%\n"
    }
   },
   "outputs": [
    {
     "data": {
      "text/plain": [
       "array([False, False,  True, ..., False,  True,  True])"
      ]
     },
     "execution_count": 2,
     "metadata": {},
     "output_type": "execute_result"
    }
   ],
   "source": [
    "p =  1. / 3. # 硬币正面向上的概率 P(H) = 1/3\n",
    "\n",
    "x = np.random.rand(1_000_000) < p\n",
    "\n",
    "x"
   ]
  },
  {
   "cell_type": "markdown",
   "metadata": {
    "pycharm": {
     "name": "#%% md\n"
    }
   },
   "source": [
    "## 3.3 验证生成数据"
   ]
  },
  {
   "cell_type": "code",
   "execution_count": 3,
   "metadata": {
    "pycharm": {
     "is_executing": false,
     "name": "#%%\n"
    }
   },
   "outputs": [
    {
     "data": {
      "text/plain": [
       "0.334423"
      ]
     },
     "execution_count": 3,
     "metadata": {},
     "output_type": "execute_result"
    }
   ],
   "source": [
    "delta = 0.01\n",
    "\n",
    "head_frequency = sum(x) / len(x)\n",
    "\n",
    "assert p - delta < head_frequency < p + delta\n",
    "\n",
    "head_frequency"
   ]
  },
  {
   "cell_type": "markdown",
   "metadata": {
    "pycharm": {
     "name": "#%% md\n"
    }
   },
   "source": [
    "## 3.4 验证答案是正确的，即决策是公平的"
   ]
  },
  {
   "cell_type": "code",
   "execution_count": 4,
   "metadata": {
    "pycharm": {
     "is_executing": false,
     "name": "#%%\n"
    }
   },
   "outputs": [
    {
     "data": {
      "text/plain": [
       "(0.4992455396756046, 110839, 222013)"
      ]
     },
     "execution_count": 4,
     "metadata": {},
     "output_type": "execute_result"
    }
   ],
   "source": [
    "decisions = count_decision(x)\n",
    "\n",
    "ht_frequency_ratio = decisions[0] / sum(decisions)\n",
    "\n",
    "assert 0.5 - delta < ht_frequency_ratio < 0.5 + delta \n",
    "\n",
    "ht_frequency_ratio, decisions[0], sum(decisions)"
   ]
  },
  {
   "cell_type": "markdown",
   "metadata": {},
   "source": [
    "# 4 是不是可以变化操作流程，简化一些呢？简化流程之后还是正确的流程吗？"
   ]
  },
  {
   "cell_type": "code",
   "execution_count": 5,
   "metadata": {
    "pycharm": {
     "is_executing": false,
     "name": "#%%\n"
    }
   },
   "outputs": [],
   "source": [
    "def count_flipped(xs):\n",
    "    tf_count = 0\n",
    "    ft_count = 0\n",
    "    \n",
    "    seq_start = True\n",
    "    v = True\n",
    "    for x in xs:\n",
    "        if seq_start:\n",
    "            seq_start = False\n",
    "            v = x\n",
    "            continue\n",
    "\n",
    "        if v == x:\n",
    "            continue\n",
    "        else:\n",
    "            seq_start = True\n",
    "            \n",
    "            if v : tf_count += 1\n",
    "            else: ft_count += 1\n",
    "                \n",
    "    return tf_count, ft_count"
   ]
  },
  {
   "cell_type": "code",
   "execution_count": 6,
   "metadata": {
    "pycharm": {
     "is_executing": false,
     "name": "#%%\n"
    }
   },
   "outputs": [
    {
     "data": {
      "text/plain": [
       "(0, 0)"
      ]
     },
     "execution_count": 6,
     "metadata": {},
     "output_type": "execute_result"
    }
   ],
   "source": [
    "count_flipped([True])"
   ]
  },
  {
   "cell_type": "code",
   "execution_count": 7,
   "metadata": {
    "pycharm": {
     "is_executing": false,
     "name": "#%%\n"
    }
   },
   "outputs": [
    {
     "data": {
      "text/plain": [
       "((1, 0), (1, 0), (1, 0))"
      ]
     },
     "execution_count": 7,
     "metadata": {},
     "output_type": "execute_result"
    }
   ],
   "source": [
    "count_flipped([True, False]), \\\n",
    "count_flipped([True,True,True, False]), \\\n",
    "count_flipped([True,True, False, True])"
   ]
  },
  {
   "cell_type": "code",
   "execution_count": 8,
   "metadata": {
    "pycharm": {
     "is_executing": false,
     "name": "#%%\n"
    }
   },
   "outputs": [
    {
     "data": {
      "text/plain": [
       "((0, 1), (0, 1))"
      ]
     },
     "execution_count": 8,
     "metadata": {},
     "output_type": "execute_result"
    }
   ],
   "source": [
    "count_flipped([False, True]), count_flipped([False, False, True])"
   ]
  },
  {
   "cell_type": "code",
   "execution_count": 9,
   "metadata": {
    "pycharm": {
     "is_executing": false,
     "name": "#%%\n"
    }
   },
   "outputs": [
    {
     "data": {
      "text/plain": [
       "(1, 1)"
      ]
     },
     "execution_count": 9,
     "metadata": {},
     "output_type": "execute_result"
    }
   ],
   "source": [
    "count_flipped([True,True,False, False, False, True])"
   ]
  },
  {
   "cell_type": "code",
   "execution_count": 10,
   "metadata": {
    "pycharm": {
     "is_executing": false,
     "name": "#%%\n"
    }
   },
   "outputs": [
    {
     "data": {
      "text/plain": [
       "0.33521180889160623"
      ]
     },
     "execution_count": 10,
     "metadata": {},
     "output_type": "execute_result"
    }
   ],
   "source": [
    "r = count_flipped(x)\n",
    "\n",
    "r[0] / sum(r)"
   ]
  },
  {
   "cell_type": "markdown",
   "metadata": {},
   "source": [
    "## 参考资料\n",
    "\n",
    "- [在条件概率中，|应该写为\\mid - Latex书写误区｜Huan Li's Blog](https://longaspire.github.io/blog/Latex%E4%B9%A6%E5%86%99%E8%AF%AF%E5%8C%BA/)"
   ]
  }
 ],
 "metadata": {
  "kernelspec": {
   "display_name": "Python 3",
   "language": "python",
   "name": "python3"
  },
  "language_info": {
   "codemirror_mode": {
    "name": "ipython",
    "version": 3
   },
   "file_extension": ".py",
   "mimetype": "text/x-python",
   "name": "python",
   "nbconvert_exporter": "python",
   "pygments_lexer": "ipython3",
   "version": "3.7.3"
  },
  "pycharm": {
   "stem_cell": {
    "cell_type": "raw",
    "metadata": {
     "collapsed": false
    },
    "source": []
   }
  }
 },
 "nbformat": 4,
 "nbformat_minor": 2
}
